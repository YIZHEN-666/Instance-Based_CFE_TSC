{
 "cells": [
  {
   "cell_type": "markdown",
   "metadata": {},
   "source": [
    "### Novelty/OOD Detection\n",
    "\n",
    "Whilst relative chebyshev distance can give some ideas about potentially out of distribution counterfactual explanations, we look to implementing novelty detection algorithms for this purpose. "
   ]
  },
  {
   "cell_type": "code",
   "execution_count": 1,
   "metadata": {},
   "outputs": [
    {
     "name": "stdout",
     "output_type": "stream",
     "text": [
      "2.4.1\n"
     ]
    }
   ],
   "source": [
    "import numpy as np\n",
    "import matplotlib.pyplot as plt\n",
    "import pandas as pd\n",
    "from sklearn.svm import SVC\n",
    "from sklearn.linear_model import LogisticRegression\n",
    "from scipy.optimize import minimize\n",
    "from scipy.spatial.distance import cdist, pdist\n",
    "from scipy import stats\n",
    "from sklearn.neighbors import DistanceMetric\n",
    "from tslearn.datasets import UCR_UEA_datasets\n",
    "from tslearn.neighbors import NearestNeighbors, KNeighborsTimeSeries\n",
    "from sklearn.metrics import accuracy_score\n",
    "from scipy.interpolate import interp1d\n",
    "import tensorflow as tf\n",
    "from sklearn import preprocessing\n",
    "from tensorflow.keras.models import Sequential\n",
    "from tensorflow.keras.layers import Dense, Activation, Conv1D, GlobalAveragePooling1D, BatchNormalization, Conv2D\n",
    "from tensorflow.keras.layers import GlobalAveragePooling1D\n",
    "from tensorflow.keras.utils import to_categorical\n",
    "from tensorflow.keras.backend import function\n",
    "from sklearn.neighbors import LocalOutlierFactor\n",
    "from sklearn.ensemble import IsolationForest\n",
    "\n",
    "from tslearn.utils import to_sklearn_dataset\n",
    "from tensorflow import keras\n",
    "from sklearn.svm import OneClassSVM\n",
    "from sklearn.neighbors import LocalOutlierFactor\n",
    "print(tf.__version__)\n"
   ]
  },
  {
   "cell_type": "code",
   "execution_count": 2,
   "metadata": {},
   "outputs": [],
   "source": [
    "dataset = 'CBF'"
   ]
  },
  {
   "cell_type": "code",
   "execution_count": 3,
   "metadata": {},
   "outputs": [],
   "source": [
    "def ucr_data_loader(dataset):\n",
    "    \n",
    "    X_train, y_train, X_test, y_test = UCR_UEA_datasets().load_dataset(dataset)\n",
    "    \n",
    "    return X_train, y_train, X_test, y_test"
   ]
  },
  {
   "cell_type": "code",
   "execution_count": 4,
   "metadata": {},
   "outputs": [],
   "source": [
    "def label_encoder(training_labels, testing_labels):\n",
    "    \n",
    "    le = preprocessing.LabelEncoder()\n",
    "    le.fit(np.concatenate((training_labels, testing_labels), axis=0))\n",
    "    y_train = le.transform(training_labels)\n",
    "    y_test = le.transform(testing_labels)\n",
    "    \n",
    "    return y_train, y_test\n",
    "    \n",
    "    "
   ]
  },
  {
   "cell_type": "code",
   "execution_count": 5,
   "metadata": {},
   "outputs": [],
   "source": [
    "X_train, y_train, X_test, y_test = ucr_data_loader(str(dataset))\n",
    "y_train, y_test = label_encoder(y_train, y_test)"
   ]
  },
  {
   "cell_type": "markdown",
   "metadata": {},
   "source": [
    "### Novelty Detection Raw Time Series\n",
    "\n",
    "Using the Local Outlier Factor Method, OC-SVM and Isolation Forest to detect potentially out-of-distribution counterfactuals"
   ]
  },
  {
   "cell_type": "code",
   "execution_count": 6,
   "metadata": {},
   "outputs": [],
   "source": [
    "OOD_lof_cam_swap = []\n",
    "OOD_svm_cam_swap = []\n",
    "\n",
    "OOD_lof_min_edit = []\n",
    "OOD_svm_min_edit = []\n",
    "\n",
    "for dataset in ['CBF', 'chinatown', 'coffee', 'ecg200', 'gunpoint']:\n",
    "\n",
    "    X_train, y_train, X_test, y_test = ucr_data_loader(str(dataset))\n",
    "    y_train, y_test = label_encoder(y_train, y_test)\n",
    "    \n",
    "    min_edit_cf = np.load('../W-CF/'+str(dataset)+'_wachter_cf.npy')\n",
    "    cam_swap_cf = np.load('../Native-Guide/'+str(dataset)+'_native_guide_isw.npy')\n",
    "\n",
    "    lof = LocalOutlierFactor(n_neighbors=int(np.sqrt(len(X_train))),novelty=True, metric='euclidean')\n",
    "    lof.fit(to_sklearn_dataset(X_train))\n",
    "    \n",
    "    novelty_detection_min_edit = lof.predict(to_sklearn_dataset((min_edit_cf)))\n",
    "    novelty_detection_cam_swap = lof.predict(to_sklearn_dataset((cam_swap_cf)))\n",
    "    \n",
    "    ood_min_edit = np.count_nonzero(novelty_detection_min_edit == -1)\n",
    "    ood_cam_swap = np.count_nonzero(novelty_detection_cam_swap == -1)\n",
    "\n",
    "    OOD_lof_min_edit.append((ood_min_edit/len(min_edit_cf)))\n",
    "    OOD_lof_cam_swap.append((ood_cam_swap/len(cam_swap_cf)))\n",
    "\n",
    "    \n",
    "    #OCSVM\n",
    "    clf = OneClassSVM(gamma='scale', nu=0.02).fit(to_sklearn_dataset(X_train))\n",
    "    \n",
    "    novelty_detection_min_edit = clf.predict(to_sklearn_dataset((min_edit_cf)))\n",
    "    novelty_detection_cam_swap = clf.predict(to_sklearn_dataset((cam_swap_cf)))\n",
    "    \n",
    "    ood_min_edit = np.count_nonzero(novelty_detection_min_edit == -1)\n",
    "    ood_cam_swap = np.count_nonzero(novelty_detection_cam_swap == -1)\n",
    "\n",
    "    OOD_svm_min_edit.append((ood_min_edit/len(min_edit_cf)))\n",
    "    OOD_svm_cam_swap.append((ood_cam_swap/len(cam_swap_cf)))"
   ]
  },
  {
   "cell_type": "code",
   "execution_count": 7,
   "metadata": {},
   "outputs": [
    {
     "data": {
      "text/plain": [
       "(array([0.09, 0.11, 0.04, 0.22, 0.19]), array([0.  , 0.  , 0.04, 0.02, 0.23]))"
      ]
     },
     "execution_count": 7,
     "metadata": {},
     "output_type": "execute_result"
    }
   ],
   "source": [
    "np.around(OOD_lof_min_edit,decimals=2), np.around(OOD_lof_cam_swap, decimals=2)"
   ]
  },
  {
   "cell_type": "code",
   "execution_count": 8,
   "metadata": {},
   "outputs": [
    {
     "data": {
      "text/plain": [
       "(array([0.69, 0.44, 0.25, 0.5 , 0.18]), array([0.5 , 0.07, 0.14, 0.16, 0.11]))"
      ]
     },
     "execution_count": 8,
     "metadata": {},
     "output_type": "execute_result"
    }
   ],
   "source": [
    "np.around(OOD_svm_min_edit, decimals=2), np.around(OOD_svm_cam_swap, decimals=2)"
   ]
  },
  {
   "cell_type": "markdown",
   "metadata": {},
   "source": [
    "#### Isolation forest\n",
    "\n",
    "Isolation Forest has certain degree of randomness. To mitigate the effects of this we average results over 10 seeds. "
   ]
  },
  {
   "cell_type": "code",
   "execution_count": 9,
   "metadata": {},
   "outputs": [],
   "source": [
    "OOD_if_cam_swap = []\n",
    "OOD_if_min_edit = []\n",
    "\n",
    "for dataset in ['CBF', 'chinatown', 'coffee', 'ecg200', 'gunpoint']:\n",
    "\n",
    "    X_train, y_train, X_test, y_test = ucr_data_loader(str(dataset))\n",
    "    y_train, y_test = label_encoder(y_train, y_test)\n",
    "    \n",
    "    min_edit_cf = np.load('../W-CF/'+str(dataset)+'_wachter_cf.npy')\n",
    "    cam_swap_cf = np.load('../Native-Guide/'+str(dataset)+'_native_guide_isw.npy')\n",
    "    \n",
    "    \n",
    "    for seed in range(0,10):\n",
    "        iforest = IsolationForest(random_state=seed).fit(to_sklearn_dataset(X_train))\n",
    "\n",
    "        novelty_detection_min_edit = iforest.predict(to_sklearn_dataset((min_edit_cf)))\n",
    "        novelty_detection_cam_swap = iforest.predict(to_sklearn_dataset((cam_swap_cf)))\n",
    "\n",
    "        ood_min_edit = np.count_nonzero(novelty_detection_min_edit == -1)\n",
    "        ood_cam_swap = np.count_nonzero(novelty_detection_cam_swap == -1)\n",
    "\n",
    "        OOD_if_min_edit.append((ood_min_edit/len(min_edit_cf)))\n",
    "        OOD_if_cam_swap.append((ood_cam_swap/len(cam_swap_cf)))"
   ]
  },
  {
   "cell_type": "code",
   "execution_count": 10,
   "metadata": {},
   "outputs": [
    {
     "name": "stdout",
     "output_type": "stream",
     "text": [
      "0.14922222222222223 0.08744444444444444\n",
      "0.4836734693877551 0.36938775510204086\n",
      "0.41428571428571426 0.36785714285714277\n",
      "0.28200000000000003 0.259\n",
      "0.22733333333333333 0.202\n"
     ]
    }
   ],
   "source": [
    "print(np.mean(OOD_if_min_edit[0:10]), np.mean(OOD_if_cam_swap[0:10]))\n",
    "print(np.mean(OOD_if_min_edit[10:20]), np.mean(OOD_if_cam_swap[10:20]))\n",
    "print(np.mean(OOD_if_min_edit[20:30]), np.mean(OOD_if_cam_swap[20:30]))\n",
    "print(np.mean(OOD_if_min_edit[30:40]), np.mean(OOD_if_cam_swap[30:40]))\n",
    "print(np.mean(OOD_if_min_edit[40:50]), np.mean(OOD_if_cam_swap[40:50]))"
   ]
  },
  {
   "cell_type": "markdown",
   "metadata": {},
   "source": [
    "### Novelty Detection on Matrix Profile Representation"
   ]
  },
  {
   "cell_type": "code",
   "execution_count": 11,
   "metadata": {},
   "outputs": [],
   "source": [
    "from tslearn.matrix_profile import MatrixProfile\n",
    "import matplotlib.transforms as mtransforms"
   ]
  },
  {
   "cell_type": "code",
   "execution_count": 12,
   "metadata": {},
   "outputs": [],
   "source": [
    "def mp_representation(data):\n",
    "    matrix_profile_representation = []\n",
    "    for instance in range(len(data)):\n",
    "        s_x = data[instance]\n",
    "        mp = MatrixProfile(subsequence_length=10, scale=False)\n",
    "        mp_series = mp.fit_transform([s_x])[0]\n",
    "        matrix_profile_representation.append(mp_series)\n",
    "    return np.array(matrix_profile_representation)"
   ]
  },
  {
   "cell_type": "code",
   "execution_count": 13,
   "metadata": {},
   "outputs": [
    {
     "data": {
      "text/plain": [
       "(150, 141, 1)"
      ]
     },
     "execution_count": 13,
     "metadata": {},
     "output_type": "execute_result"
    }
   ],
   "source": [
    "mp_representation(X_train)\n",
    "mp_representation(min_edit_cf).shape"
   ]
  },
  {
   "cell_type": "code",
   "execution_count": 14,
   "metadata": {},
   "outputs": [],
   "source": [
    "OOD_lof_cam_swap = []\n",
    "OOD_svm_cam_swap = []\n",
    "\n",
    "OOD_lof_min_edit = []\n",
    "OOD_svm_min_edit = []\n",
    "\n",
    "for dataset in ['CBF','chinatown', 'coffee', 'ecg200', 'gunpoint']:\n",
    "#for dataset in ['ecg200']:\n",
    "\n",
    "    X_train, y_train, X_test, y_test = ucr_data_loader(str(dataset))\n",
    "    y_train, y_test = label_encoder(y_train, y_test)\n",
    "    \n",
    "    X_train = mp_representation(X_train)\n",
    "    \n",
    "    min_edit_cf = np.load('../W-CF/'+str(dataset)+'_wachter_cf.npy')\n",
    "    min_edit_cf = mp_representation(min_edit_cf)\n",
    "    cam_swap_cf = np.load('../Native-Guide/'+str(dataset)+'_native_guide_isw.npy')\n",
    "    cam_swap_cf = mp_representation(cam_swap_cf)\n",
    "\n",
    "    lof = LocalOutlierFactor(n_neighbors=int(np.sqrt(len(X_train))),novelty=True, metric='euclidean')\n",
    "    lof.fit(to_sklearn_dataset(X_train))\n",
    "    \n",
    "    novelty_detection_min_edit = lof.predict(to_sklearn_dataset((min_edit_cf)))\n",
    "    novelty_detection_cam_swap = lof.predict(to_sklearn_dataset((cam_swap_cf)))\n",
    "    \n",
    "    ood_min_edit = np.count_nonzero(novelty_detection_min_edit == -1)\n",
    "    ood_cam_swap = np.count_nonzero(novelty_detection_cam_swap == -1)\n",
    "\n",
    "    OOD_lof_min_edit.append((ood_min_edit/len(min_edit_cf)))\n",
    "    OOD_lof_cam_swap.append((ood_cam_swap/len(cam_swap_cf)))\n",
    "\n",
    "    \n",
    "    #OCSVM\n",
    "    clf = OneClassSVM(gamma='scale', nu=0.02).fit(to_sklearn_dataset(X_train))\n",
    "    \n",
    "    novelty_detection_min_edit = clf.predict(to_sklearn_dataset((min_edit_cf)))\n",
    "    novelty_detection_cam_swap = clf.predict(to_sklearn_dataset((cam_swap_cf)))\n",
    "    \n",
    "    ood_min_edit = np.count_nonzero(novelty_detection_min_edit == -1)\n",
    "    ood_cam_swap = np.count_nonzero(novelty_detection_cam_swap == -1)\n",
    "\n",
    "    OOD_svm_min_edit.append((ood_min_edit/len(min_edit_cf)))\n",
    "    OOD_svm_cam_swap.append((ood_cam_swap/len(cam_swap_cf)))"
   ]
  },
  {
   "cell_type": "code",
   "execution_count": 15,
   "metadata": {},
   "outputs": [
    {
     "data": {
      "text/plain": [
       "([0.6111111111111112,\n",
       "  0.8746355685131195,\n",
       "  0.42857142857142855,\n",
       "  0.44,\n",
       "  0.5666666666666667],\n",
       " [0.3388888888888889, 0.22448979591836735, 0.21428571428571427, 0.13, 0.3])"
      ]
     },
     "execution_count": 15,
     "metadata": {},
     "output_type": "execute_result"
    }
   ],
   "source": [
    "#OOD_lof_min_edit, OOD_lof_cam_swap\n",
    "OOD_svm_min_edit, OOD_svm_cam_swap"
   ]
  },
  {
   "cell_type": "markdown",
   "metadata": {},
   "source": [
    "### OOD Plots "
   ]
  },
  {
   "cell_type": "code",
   "execution_count": 16,
   "metadata": {},
   "outputs": [],
   "source": [
    "X_train, y_train, X_test, y_test = ucr_data_loader(str('ecg200'))\n",
    "y_train, y_test = label_encoder(y_train, y_test)\n",
    "\n",
    "min_edit_cf = np.load('../W-CF/'+str('ecg200')+'_wachter_cf.npy')"
   ]
  },
  {
   "cell_type": "code",
   "execution_count": 17,
   "metadata": {},
   "outputs": [
    {
     "data": {
      "text/plain": [
       "Text(2, 6.2, 'B.')"
      ]
     },
     "execution_count": 17,
     "metadata": {},
     "output_type": "execute_result"
    },
    {
     "data": {
      "image/png": "[encoded data removed]",
      "text/plain": [
       "<Figure size 1152x360 with 2 Axes>"
      ]
     },
     "metadata": {
      "needs_background": "light"
     },
     "output_type": "display_data"
    }
   ],
   "source": [
    "fig, (ax1, ax2) = plt.subplots(1, 2, figsize=(16, 5))\n",
    "\n",
    "ax1.plot(X_test[22], color='blue', label = 'Query')\n",
    "ax1.plot(X_train[44], color='red', label = 'NUN-CF')\n",
    "ax1.legend(loc='upper right', prop={'size': 'x-large'})  \n",
    "ax1.set_xlabel('Time', rotation=0, size=16, fontweight='bold')\n",
    "ax1.set_ylabel('ECG Signal', size='xx-large', fontweight='bold')\n",
    "ax1.set_ylim(-3,3.5)\n",
    "\n",
    "\n",
    "ax2.plot(X_test[22], color='blue', label = 'Query')\n",
    "ax2.plot(min_edit_cf[22], color='red', alpha = 0.7, label = 'w-CF')\n",
    "ax2.legend(loc='upper right', prop={'size': 'x-large'})\n",
    "ax2.set_xlabel('Time', rotation=0, size=18, fontweight='bold')\n",
    "ax2.set_ylim(-3,7)\n",
    "\n",
    "\n",
    "ax1.text(2,3,'A.', fontsize=19, fontweight='bold')\n",
    "ax2.text(2,6.2,'B.', fontsize=19, fontweight='bold')\n",
    "\n",
    "#plt.savefig('../Images/OOD_comparison.pdf')"
   ]
  }
 ],
 "metadata": {
  "kernelspec": {
   "display_name": "Python 3",
   "language": "python",
   "name": "python3"
  },
  "language_info": {
   "codemirror_mode": {
    "name": "ipython",
    "version": 3
   },
   "file_extension": ".py",
   "mimetype": "text/x-python",
   "name": "python",
   "nbconvert_exporter": "python",
   "pygments_lexer": "ipython3",
   "version": "3.7.9"
  },
  "toc": {
   "base_numbering": 1,
   "nav_menu": {},
   "number_sections": true,
   "sideBar": true,
   "skip_h1_title": false,
   "title_cell": "Table of Contents",
   "title_sidebar": "Contents",
   "toc_cell": false,
   "toc_position": {},
   "toc_section_display": true,
   "toc_window_display": false
  }
 },
 "nbformat": 4,
 "nbformat_minor": 4
}
