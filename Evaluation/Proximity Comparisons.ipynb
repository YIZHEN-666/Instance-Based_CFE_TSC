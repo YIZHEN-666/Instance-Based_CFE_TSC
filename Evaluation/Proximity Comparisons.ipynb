{
 "cells": [
  {
   "cell_type": "markdown",
   "metadata": {},
   "source": [
    "### Proximity"
   ]
  },
  {
   "cell_type": "code",
   "execution_count": 1,
   "metadata": {},
   "outputs": [
    {
     "name": "stdout",
     "output_type": "stream",
     "text": [
      "2.4.1\n"
     ]
    }
   ],
   "source": [
    "import numpy as np\n",
    "import matplotlib.pyplot as plt\n",
    "import pandas as pd\n",
    "from sklearn.svm import SVC\n",
    "from sklearn.linear_model import LogisticRegression\n",
    "from scipy.optimize import minimize\n",
    "from scipy.spatial.distance import cdist, pdist\n",
    "from scipy import stats\n",
    "from sklearn.neighbors import DistanceMetric\n",
    "from tslearn.datasets import UCR_UEA_datasets\n",
    "from tslearn.neighbors import NearestNeighbors, KNeighborsTimeSeries\n",
    "from sklearn.metrics import accuracy_score\n",
    "from scipy.interpolate import interp1d\n",
    "import tensorflow as tf\n",
    "from sklearn import preprocessing\n",
    "from tensorflow.keras.models import Sequential\n",
    "from tensorflow.keras.layers import Dense, Activation, Conv1D, GlobalAveragePooling1D, BatchNormalization, Conv2D\n",
    "from tensorflow.keras.layers import GlobalAveragePooling1D\n",
    "from tensorflow.keras.utils import to_categorical\n",
    "from tensorflow.keras.backend import function\n",
    "from sklearn.neighbors import LocalOutlierFactor\n",
    "from tslearn.utils import to_sklearn_dataset\n",
    "from tensorflow import keras\n",
    "print(tf.__version__)\n",
    "import seaborn as sns\n",
    "from scipy.spatial import distance"
   ]
  },
  {
   "cell_type": "code",
   "execution_count": 2,
   "metadata": {},
   "outputs": [],
   "source": [
    "def ucr_data_loader(dataset):\n",
    "    \n",
    "    X_train, y_train, X_test, y_test = UCR_UEA_datasets().load_dataset(dataset)\n",
    "    \n",
    "    return X_train, y_train, X_test, y_test\n",
    "\n",
    "\n",
    "def label_encoder(training_labels, testing_labels):\n",
    "    \n",
    "    le = preprocessing.LabelEncoder()\n",
    "    le.fit(np.concatenate((training_labels, testing_labels), axis=0))\n",
    "    y_train = le.transform(training_labels)\n",
    "    y_test = le.transform(testing_labels)\n",
    "    \n",
    "    return y_train, y_test"
   ]
  },
  {
   "cell_type": "code",
   "execution_count": 3,
   "metadata": {},
   "outputs": [],
   "source": [
    "def native_guide_retrieval(query, predicted_label, distance, n_neighbors):\n",
    "\n",
    "    df = pd.DataFrame(y_train, columns = ['label'])\n",
    "    df.index.name = 'index'\n",
    "    df[df['label'] == 1].index.values, df[df['label'] != 1].index.values\n",
    "    \n",
    "    ts_length = X_train.shape[1]\n",
    "    \n",
    "\n",
    "    knn = KNeighborsTimeSeries(n_neighbors=n_neighbors, metric = distance)\n",
    "    \n",
    "    knn.fit(X_train[list(df[df['label'] != predicted_label].index.values)])\n",
    "    \n",
    "    dist,ind = knn.kneighbors(query.reshape(1,ts_length), return_distance=True)\n",
    "    return dist[0], df[df['label'] != predicted_label].index[ind[0][:]]"
   ]
  },
  {
   "cell_type": "code",
   "execution_count": 4,
   "metadata": {},
   "outputs": [
    {
     "name": "stdout",
     "output_type": "stream",
     "text": [
      "{'CBF_l1': (0.15, 0.34)}\n",
      "{'CBF_l2': (0.64, 0.59)}\n",
      "{'CBF_l_inf': (2.07, 0.85)}\n",
      "{'chinatown_l1': (0.61, 0.31)}\n",
      "{'chinatown_l2': (0.93, 0.55)}\n",
      "{'chinatown_l_inf': (1.52, 0.82)}\n",
      "{'coffee_l1': (0.13, 0.26)}\n",
      "{'coffee_l2': (0.57, 0.65)}\n",
      "{'coffee_l_inf': (1.93, 1.0)}\n",
      "{'ecg200_l1': (0.1, 0.22)}\n",
      "{'ecg200_l2': (0.45, 0.5)}\n",
      "{'ecg200_l_inf': (1.26, 0.84)}\n",
      "{'gunpoint_l1': (0.13, 0.29)}\n",
      "{'gunpoint_l2': (0.32, 0.58)}\n",
      "{'gunpoint_l_inf': (0.91, 0.82)}\n"
     ]
    }
   ],
   "source": [
    "for dataset in ['CBF', 'chinatown', 'coffee', 'ecg200', 'gunpoint']:\n",
    "\n",
    "\n",
    "    X_train, y_train, X_test, y_test = ucr_data_loader(str(dataset))\n",
    "    y_train, y_test = label_encoder(y_train, y_test)\n",
    "\n",
    "    min_edit_cf = np.load('../W-CF/' + str(dataset) + '_wachter_cf.npy')\n",
    "    cam_swap_cf = np.load('../Native-Guide/' + str(dataset)+'_native_guide_isw.npy')\n",
    "    \n",
    "    model = keras.models.load_model('../fcn_weights/'+str(dataset)+'_best_model.hdf5')\n",
    "    y_pred = np.argmax(model.predict(X_test), axis=1)\n",
    "    \n",
    "    nuns = []\n",
    "    for instance in range(len(X_test)):\n",
    "        nuns.append(native_guide_retrieval(X_test[instance], y_pred[instance], 'euclidean', 1)[1][0])\n",
    "    nuns = np.array(nuns)\n",
    "    \n",
    "    l1_nun = []\n",
    "    l1_min_edit = []\n",
    "    l1_cam_swap = []\n",
    "    \n",
    "    l2_nun = []\n",
    "    l2_min_edit = []\n",
    "    l2_cam_swap = []\n",
    "    \n",
    "    l_inf_nun = []\n",
    "    l_inf_min_edit = []\n",
    "    l_inf_cam_swap = []\n",
    "    \n",
    "\n",
    "    for instance in range(len(X_test)):\n",
    "\n",
    "        l1_nun.append(distance.cityblock(X_train[nuns[instance]],X_test[instance]))\n",
    "        l1_min_edit.append(distance.cityblock(min_edit_cf[instance],X_test[instance]))\n",
    "        l1_cam_swap.append(distance.cityblock(cam_swap_cf[instance],X_test[instance]))\n",
    "        \n",
    "        \n",
    "        l2_nun.append(np.linalg.norm(X_train[nuns[instance]]-X_test[instance]))\n",
    "        l2_min_edit.append(np.linalg.norm(min_edit_cf[instance]-X_test[instance]))\n",
    "        l2_cam_swap.append(np.linalg.norm(cam_swap_cf[instance]-X_test[instance]))\n",
    "        \n",
    "        \n",
    "        l_inf_nun.append(distance.chebyshev(X_train[nuns[instance]],X_test[instance]))\n",
    "        l_inf_min_edit.append(distance.chebyshev(min_edit_cf[instance],X_test[instance]))\n",
    "        l_inf_cam_swap.append(distance.chebyshev(cam_swap_cf[instance],X_test[instance]))\n",
    "        \n",
    "\n",
    "    print({dataset + '_l1' : (np.mean(np.array(l1_min_edit)/np.array(l1_nun)).round(2), np.mean(np.array(l1_cam_swap)/np.array(l1_nun)).round(2))})\n",
    "    print({dataset + '_l2' : (np.mean(np.array(l2_min_edit)/np.array(l2_nun)).round(2), np.mean(np.array(l2_cam_swap)/np.array(l2_nun)).round(2))})\n",
    "    print({dataset + '_l_inf' : (np.mean(np.array(l_inf_min_edit)/np.array(l_inf_nun)).round(2), np.mean(np.array(l_inf_cam_swap)/np.array(l_inf_nun)).round(2))\n",
    "    })"
   ]
  },
  {
   "cell_type": "markdown",
   "metadata": {},
   "source": [
    "### Proximity Analysis and Plotting"
   ]
  },
  {
   "cell_type": "markdown",
   "metadata": {},
   "source": [
    "Plots for different distances"
   ]
  },
  {
   "cell_type": "code",
   "execution_count": 5,
   "metadata": {},
   "outputs": [
    {
     "data": {
      "image/png": "[encoded data removed]",
      "text/plain": [
       "<Figure size 432x288 with 1 Axes>"
      ]
     },
     "metadata": {
      "needs_background": "light"
     },
     "output_type": "display_data"
    }
   ],
   "source": [
    "#plt.title(r'W1 disk and central $\\pm2^\\circ$ subtracted', fontsize='small')\n",
    "\n",
    "\n",
    "labels = ['CBF', 'Chinatown', 'Coffee', 'Ecg200', 'Gunpoint']\n",
    "\n",
    "l_inf_w = [2.07,1.52, 1.93, 1.26, 0.91]\n",
    "l_inf_cam = [0.85,0.82, 1, 0.84, 0.82]\n",
    "\n",
    "\n",
    "\n",
    "x = np.arange(len(labels))  # the label locations\n",
    "width = 0.3  # the width of the bars\n",
    "\n",
    "fig, ax = plt.subplots()\n",
    "rects1 = ax.bar(x - width/2, l_inf_w, width, label='w-CF')\n",
    "rects2 = ax.bar(x + width/2, l_inf_cam, width, label='Native-Guide CF')\n",
    "\n",
    "ax.hlines(1,xmin=-0.5, xmax=4.5, colors='red', linestyles='--', label='NUN-CF')\n",
    "\n",
    "ax.set_ylabel('RCF - $L_{\\infty}$', size = 'xx-large', fontweight='bold')\n",
    "ax.set_title('Proximity - $L_{\\infty}$ Norm', size='xx-large', fontweight='bold')\n",
    "ax.set_xticks(x)\n",
    "ax.set_xticklabels(labels, size='large')\n",
    "ax.legend()\n",
    "\n",
    "fig.tight_layout()\n",
    "#plt.savefig(\"../Images/L_inf.pdf\")\n",
    "plt.show()"
   ]
  },
  {
   "cell_type": "code",
   "execution_count": 6,
   "metadata": {},
   "outputs": [
    {
     "data": {
      "image/png": "[encoded data removed]",
      "text/plain": [
       "<Figure size 432x288 with 1 Axes>"
      ]
     },
     "metadata": {
      "needs_background": "light"
     },
     "output_type": "display_data"
    }
   ],
   "source": [
    "labels = ['CBF', 'Chinatown', 'Coffee', 'Ecg200', 'Gunpoint']\n",
    "\n",
    "l1_w = [0.15,0.61, 0.13, 0.1, 0.13]\n",
    "l1_cam = [0.34,0.31, 0.26, 0.45, 0.29]\n",
    "\n",
    "x = np.arange(len(labels))  # the label locations\n",
    "width = 0.3  # the width of the bars\n",
    "\n",
    "fig, ax = plt.subplots()\n",
    "rects1 = ax.bar(x - width/2, l1_w, width, label='w-CF')\n",
    "rects2 = ax.bar(x + width/2, l1_cam, width, label='Native-Guide CF')\n",
    "\n",
    "ax.hlines(1,xmin=-0.5, xmax=4.5, colors='red', linestyles='--', label='NUN-CF')\n",
    "\n",
    "ax.set_ylabel('RCF - $L_{1}$', size = 'xx-large', fontweight='bold')\n",
    "ax.set_title('Proximity - $L_{1}$ Norm', size='xx-large', fontweight='bold')\n",
    "ax.set_xticks(x)\n",
    "ax.set_xticklabels(labels, size='large')\n",
    "ax.legend()\n",
    "ax.set_ylim([0,1.4])\n",
    "\n",
    "fig.tight_layout()\n",
    "#plt.savefig(\"../Images/L_1.pdf\")\n",
    "plt.show()"
   ]
  }
 ],
 "metadata": {
  "kernelspec": {
   "display_name": "Python 3",
   "language": "python",
   "name": "python3"
  },
  "language_info": {
   "codemirror_mode": {
    "name": "ipython",
    "version": 3
   },
   "file_extension": ".py",
   "mimetype": "text/x-python",
   "name": "python",
   "nbconvert_exporter": "python",
   "pygments_lexer": "ipython3",
   "version": "3.7.9"
  },
  "toc": {
   "base_numbering": 1,
   "nav_menu": {},
   "number_sections": true,
   "sideBar": true,
   "skip_h1_title": false,
   "title_cell": "Table of Contents",
   "title_sidebar": "Contents",
   "toc_cell": false,
   "toc_position": {},
   "toc_section_display": true,
   "toc_window_display": false
  }
 },
 "nbformat": 4,
 "nbformat_minor": 4
}
