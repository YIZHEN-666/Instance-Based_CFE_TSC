{
 "cells": [
  {
   "cell_type": "markdown",
   "metadata": {},
   "source": [
    "### Loading in some Libs"
   ]
  },
  {
   "cell_type": "code",
   "metadata": {
    "ExecuteTime": {
     "end_time": "2025-09-08T20:20:53.001911Z",
     "start_time": "2025-09-08T20:20:48.176877Z"
    }
   },
   "source": [
    "import numpy as np\n",
    "import matplotlib.pyplot as plt\n",
    "import pandas as pd\n",
    "from sklearn.svm import SVC\n",
    "from sklearn.linear_model import LogisticRegression\n",
    "from scipy.optimize import minimize\n",
    "from scipy.spatial.distance import cdist, pdist\n",
    "from scipy import stats\n",
    "from sklearn.neighbors import DistanceMetric\n",
    "from tslearn.datasets import UCR_UEA_datasets\n",
    "from tslearn.neighbors import KNeighborsTimeSeries\n",
    "from sklearn.neighbors import NearestNeighbors\n",
    "from sklearn.metrics import accuracy_score\n",
    "\n",
    "from scipy.interpolate import interp1d\n",
    "\n",
    "import tensorflow as tf\n",
    "from tensorflow.keras.models import Sequential\n",
    "from tensorflow.keras.layers import Dense, Activation, Conv1D, GlobalAveragePooling1D, BatchNormalization, Conv2D\n",
    "from tensorflow.keras.layers import GlobalAveragePooling1D\n",
    "from tensorflow.keras.utils import to_categorical\n",
    "from tensorflow.keras.backend import function\n",
    "\n",
    "from tensorflow.keras.models import load_model\n",
    "\n",
    "from counterfactual_utils import ucr_data_loader, label_encoder\n",
    "\n",
    "print(tf.__version__)"
   ],
   "outputs": [
    {
     "name": "stdout",
     "output_type": "stream",
     "text": [
      "TF version:  2.5.0\n",
      "Eager execution enabled:  False\n",
      "2.5.0\n"
     ]
    }
   ],
   "execution_count": 1
  },
  {
   "cell_type": "code",
   "metadata": {
    "ExecuteTime": {
     "end_time": "2025-09-08T20:22:12.453311Z",
     "start_time": "2025-09-08T20:22:12.442311Z"
    }
   },
   "source": [
    "np.random.seed(0)\n",
    "#setting a random seed"
   ],
   "outputs": [],
   "execution_count": 2
  },
  {
   "cell_type": "markdown",
   "metadata": {},
   "source": [
    "### Loading data and classifier example"
   ]
  },
  {
   "cell_type": "code",
   "metadata": {
    "jupyter": {
     "is_executing": true
    },
    "ExecuteTime": {
     "start_time": "2025-09-08T20:16:55.226786Z"
    }
   },
   "source": [
    "# X_train, y_train, X_test, y_test = ucr_data_loader(str('Lightning2'))\n",
    "# y_train, y_test = label_encoder(y_train, y_test)\n",
    "#\n",
    "# model =load_model('Lightning2_best_model_myrun.hdf5')\n",
    "# y_pred = model.predict(X_test)\n",
    "# y_pred = np.argmax(y_pred, axis=1)"
   ],
   "outputs": [],
   "execution_count": null
  },
  {
   "cell_type": "markdown",
   "metadata": {},
   "source": [
    "### Next we want to be able to specify what our counterfactual target is. This should be different to the predicted label of the base classifier. Also lets specify the loss function"
   ]
  },
  {
   "cell_type": "code",
   "metadata": {
    "ExecuteTime": {
     "end_time": "2025-09-08T20:22:22.409251Z",
     "start_time": "2025-09-08T20:22:22.397243Z"
    }
   },
   "source": [
    "def target_(label):\n",
    "    if label == 0:\n",
    "        counter = 1\n",
    "    elif label == 1:\n",
    "        counter = 0\n",
    "    return counter\n",
    "\n",
    "\n",
    "def dist_mad(query, cf):\n",
    "    manhat = np.abs(query-cf)\n",
    "    mad = stats.median_absolute_deviation(X_train)\n",
    "    return np.sum((manhat/mad).flatten())\n",
    "\n",
    "def loss_function_mad(x_dash):\n",
    "    target = target_(example_label)\n",
    "    L = lamda*(model.predict(x_dash.reshape(1,-1,1))[0][target] - 1)**2 + \\\n",
    "    dist_mad(x_dash.reshape(1,-1,1), query)\n",
    "    return L"
   ],
   "outputs": [],
   "execution_count": 3
  },
  {
   "cell_type": "code",
   "metadata": {
    "ExecuteTime": {
     "end_time": "2025-08-21T23:42:50.462053Z",
     "start_time": "2025-08-21T23:42:50.446314Z"
    }
   },
   "source": [
    "#checking target works & mad distance works\n",
    "#y_pred[0], target_(y_pred[0]), dist_mad(X_test[0], X_train[3])"
   ],
   "outputs": [],
   "execution_count": 5
  },
  {
   "cell_type": "markdown",
   "metadata": {},
   "source": [
    "### Wachter Counterfactuals"
   ]
  },
  {
   "cell_type": "code",
   "metadata": {
    "ExecuteTime": {
     "end_time": "2025-09-08T20:22:36.580230Z",
     "start_time": "2025-09-08T20:22:36.566230Z"
    }
   },
   "source": [
    "def Wachter_Counterfactual(instance, lambda_init):\n",
    "\n",
    "    min_edit_cf = []\n",
    "    \n",
    "    global lamda\n",
    "    global dist_mad\n",
    "    global loss_function_mad\n",
    "    global example_label\n",
    "    global query\n",
    "\n",
    "    \n",
    "    pred_threshold = 0.5\n",
    "\n",
    "    # initial conditions\n",
    "    lamda = lambda_init\n",
    "    x0 = X_test[instance].reshape(1,-1,1) # initial guess for cf\n",
    "    query = X_test[instance].reshape(1,-1,1)\n",
    "\n",
    "    example_label = y_pred[instance]\n",
    "\n",
    "    res = minimize(loss_function_mad, x0.reshape(1,-1), method='nelder-mead', options={'maxiter':10, 'xatol': 50, 'adaptive': True})\n",
    "    cf = res.x.reshape(1,-1,1)\n",
    "\n",
    "    target = target_(y_pred[instance])\n",
    "    prob_target = model.predict(cf)[0][target]\n",
    "\n",
    "\n",
    "    i=0\n",
    "    while prob_target < pred_threshold:\n",
    "\n",
    "\n",
    "        lamda = lambda_init*(1+0.5)**i\n",
    "        x0 = cf\n",
    "        res = minimize(loss_function_mad, x0.reshape(1,-1), method='nelder-mead', options={'maxiter':10, 'xatol': 50, 'adaptive': True})\n",
    "        cf = res.x.reshape(1,-1,1)\n",
    "        prob_target = model.predict(cf)[0][target]\n",
    "        i += 1\n",
    "        if i == 500:\n",
    "            print('Error condition not met after',i,'iterations')\n",
    "            break\n",
    "\n",
    "    min_edit_cf.append(cf[0])\n",
    "\n",
    "    \n",
    "    return min_edit_cf"
   ],
   "outputs": [],
   "execution_count": 4
  },
  {
   "cell_type": "code",
   "metadata": {
    "ExecuteTime": {
     "end_time": "2025-08-21T23:43:04.950480Z",
     "start_time": "2025-08-21T23:43:04.941483Z"
    }
   },
   "source": [
    "#for dataset in ['coffee', 'ecg200', 'gunpoint', 'chinatown']:\n",
    "    \n",
    "#    X_train, y_train, X_test, y_test = ucr_data_loader(str(dataset))\n",
    "#    y_train, y_test = label_encoder(y_train, y_test)\n",
    "    \n",
    "#    model =load_model(str(dataset)+'_best_model.hdf5')\n",
    "#    y_pred = model.predict(X_test)\n",
    "#    y_pred = np.argmax(y_pred, axis=1)\n",
    "    \n",
    "    \n",
    "#    counterfactual_set = []\n",
    "    \n",
    "#    for instance in range(len(X_test)):\n",
    "#        counterfactual_set.append(Wachter_Counterfactual(instance,lambda_init=0.1)[0])\n",
    "        \n",
    "#    np.array(counterfactual_set)\n",
    "#    np.save(str(dataset) + '_wachter_cf', np.array(counterfactual_set))\n",
    "    \n"
   ],
   "outputs": [],
   "execution_count": 8
  },
  {
   "metadata": {
    "ExecuteTime": {
     "end_time": "2025-09-08T22:56:16.790432Z",
     "start_time": "2025-09-08T20:27:45.181307Z"
    }
   },
   "cell_type": "code",
   "source": [
    "for dataset in ['Lightning2']:\n",
    "\n",
    "   X_train, y_train, X_test, y_test = ucr_data_loader(str(dataset))\n",
    "   y_train, y_test = label_encoder(y_train, y_test)\n",
    "\n",
    "   model =load_model(str(dataset)+'_best_model.hdf5')\n",
    "   y_pred = model.predict(X_test)\n",
    "   y_pred = np.argmax(y_pred, axis=1)\n",
    "\n",
    "\n",
    "   counterfactual_set = []\n",
    "\n",
    "   for instance in range(len(X_test)):\n",
    "       print(f\"Processing instance {instance+1}/{len(X_test)}...\")\n",
    "       counterfactual_set.append(Wachter_Counterfactual(instance,lambda_init=0.1)[0])\n",
    "\n",
    "   np.array(counterfactual_set)\n",
    "   np.save(str(dataset) + '_wachter_cf', np.array(counterfactual_set))\n",
    "\n"
   ],
   "outputs": [
    {
     "name": "stderr",
     "output_type": "stream",
     "text": [
      "C:\\Users\\myz\\.conda\\envs\\ibcfe-tsc\\lib\\site-packages\\tensorflow\\python\\keras\\engine\\training.py:2426: UserWarning: `Model.state_updates` will be removed in a future version. This property should not be used in TensorFlow 2.0, as `updates` are applied automatically.\n",
      "  warnings.warn('`Model.state_updates` will be removed in a future version. '\n"
     ]
    },
    {
     "name": "stdout",
     "output_type": "stream",
     "text": [
      "Processing instance 1/61...\n"
     ]
    },
    {
     "name": "stderr",
     "output_type": "stream",
     "text": [
      "C:\\Users\\myz\\AppData\\Local\\Temp\\ipykernel_27696\\4216887284.py:11: DeprecationWarning: `median_absolute_deviation` is deprecated, use `median_abs_deviation` instead!\n",
      "\n",
      "To preserve the existing default behavior, use\n",
      "`scipy.stats.median_abs_deviation(..., scale=1/1.4826)`.\n",
      "The value 1.4826 is not numerically precise for scaling\n",
      "with a normal distribution. For a numerically precise value, use\n",
      "`scipy.stats.median_abs_deviation(..., scale='normal')`.\n",
      "\n",
      "  mad = stats.median_absolute_deviation(X_train)\n"
     ]
    },
    {
     "name": "stdout",
     "output_type": "stream",
     "text": [
      "Processing instance 2/61...\n",
      "Processing instance 3/61...\n",
      "Processing instance 4/61...\n",
      "Processing instance 5/61...\n",
      "Processing instance 6/61...\n",
      "Processing instance 7/61...\n",
      "Processing instance 8/61...\n",
      "Processing instance 9/61...\n",
      "Processing instance 10/61...\n",
      "Processing instance 11/61...\n",
      "Processing instance 12/61...\n",
      "Processing instance 13/61...\n",
      "Processing instance 14/61...\n",
      "Processing instance 15/61...\n",
      "Processing instance 16/61...\n",
      "Processing instance 17/61...\n",
      "Processing instance 18/61...\n",
      "Processing instance 19/61...\n",
      "Processing instance 20/61...\n",
      "Processing instance 21/61...\n",
      "Processing instance 22/61...\n",
      "Processing instance 23/61...\n",
      "Processing instance 24/61...\n",
      "Processing instance 25/61...\n",
      "Processing instance 26/61...\n",
      "Processing instance 27/61...\n",
      "Processing instance 28/61...\n",
      "Processing instance 29/61...\n",
      "Processing instance 30/61...\n",
      "Processing instance 31/61...\n",
      "Processing instance 32/61...\n",
      "Processing instance 33/61...\n",
      "Processing instance 34/61...\n",
      "Processing instance 35/61...\n",
      "Processing instance 36/61...\n",
      "Processing instance 37/61...\n",
      "Processing instance 38/61...\n",
      "Processing instance 39/61...\n",
      "Processing instance 40/61...\n",
      "Processing instance 41/61...\n",
      "Processing instance 42/61...\n",
      "Processing instance 43/61...\n",
      "Processing instance 44/61...\n",
      "Processing instance 45/61...\n",
      "Processing instance 46/61...\n",
      "Processing instance 47/61...\n",
      "Processing instance 48/61...\n",
      "Processing instance 49/61...\n",
      "Processing instance 50/61...\n",
      "Processing instance 51/61...\n",
      "Processing instance 52/61...\n",
      "Processing instance 53/61...\n",
      "Processing instance 54/61...\n",
      "Processing instance 55/61...\n",
      "Processing instance 56/61...\n",
      "Processing instance 57/61...\n",
      "Processing instance 58/61...\n",
      "Processing instance 59/61...\n",
      "Processing instance 60/61...\n",
      "Processing instance 61/61...\n"
     ]
    }
   ],
   "execution_count": 5
  }
 ],
 "metadata": {
  "kernelspec": {
   "display_name": "Python 3",
   "language": "python",
   "name": "python3"
  },
  "language_info": {
   "codemirror_mode": {
    "name": "ipython",
    "version": 3
   },
   "file_extension": ".py",
   "mimetype": "text/x-python",
   "name": "python",
   "nbconvert_exporter": "python",
   "pygments_lexer": "ipython3",
   "version": "3.7.9"
  },
  "toc": {
   "base_numbering": 1,
   "nav_menu": {},
   "number_sections": true,
   "sideBar": true,
   "skip_h1_title": false,
   "title_cell": "Table of Contents",
   "title_sidebar": "Contents",
   "toc_cell": false,
   "toc_position": {},
   "toc_section_display": true,
   "toc_window_display": false
  }
 },
 "nbformat": 4,
 "nbformat_minor": 2
}
