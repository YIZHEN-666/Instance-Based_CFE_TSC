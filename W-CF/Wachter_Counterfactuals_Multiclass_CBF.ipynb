{
 "cells": [
  {
   "cell_type": "markdown",
   "metadata": {},
   "source": [
    "### Loading in some Libs"
   ]
  },
  {
   "cell_type": "code",
   "metadata": {
    "ExecuteTime": {
     "end_time": "2025-08-22T00:28:36.637809Z",
     "start_time": "2025-08-22T00:28:29.489190Z"
    }
   },
   "source": [
    "import numpy as np\n",
    "import matplotlib.pyplot as plt\n",
    "import pandas as pd\n",
    "from sklearn.svm import SVC\n",
    "from sklearn.linear_model import LogisticRegression\n",
    "from scipy.optimize import minimize\n",
    "from scipy.spatial.distance import cdist, pdist\n",
    "from scipy import stats\n",
    "from sklearn.neighbors import DistanceMetric\n",
    "from tslearn.datasets import UCR_UEA_datasets\n",
    "from tslearn.neighbors import KNeighborsTimeSeries\n",
    "from sklearn.neighbors import NearestNeighbors\n",
    "from sklearn.metrics import accuracy_score\n",
    "\n",
    "from scipy.interpolate import interp1d\n",
    "import tensorflow as tf\n",
    "from tensorflow.keras.models import Sequential\n",
    "from tensorflow.keras.layers import Dense, Activation, Conv1D, GlobalAveragePooling1D, BatchNormalization, Conv2D\n",
    "from tensorflow.keras.layers import GlobalAveragePooling1D\n",
    "from tensorflow.keras.utils import to_categorical\n",
    "from tensorflow.keras.backend import function\n",
    "\n",
    "from tensorflow.keras.models import load_model\n",
    "from counterfactual_utils import ucr_data_loader, label_encoder\n",
    "print(tf.__version__)"
   ],
   "outputs": [
    {
     "name": "stdout",
     "output_type": "stream",
     "text": [
      "TF version:  2.5.0\n",
      "Eager execution enabled:  False\n",
      "2.5.0\n"
     ]
    }
   ],
   "execution_count": 1
  },
  {
   "cell_type": "code",
   "metadata": {
    "ExecuteTime": {
     "end_time": "2025-08-22T00:29:09.793480Z",
     "start_time": "2025-08-22T00:29:09.779964Z"
    }
   },
   "source": [
    "np.random.seed(0)\n",
    "#setting a random seed"
   ],
   "outputs": [],
   "execution_count": 2
  },
  {
   "cell_type": "markdown",
   "metadata": {},
   "source": [
    "### Loading data and classifier example"
   ]
  },
  {
   "cell_type": "code",
   "metadata": {
    "ExecuteTime": {
     "end_time": "2025-08-22T00:29:33.789232Z",
     "start_time": "2025-08-22T00:29:15.436180Z"
    }
   },
   "source": [
    "X_train, y_train, X_test, y_test = ucr_data_loader(str('cbf'))\n",
    "y_train, y_test = label_encoder(y_train, y_test)\n",
    "model =load_model('cbf_best_model.hdf5')\n",
    "y_pred = model.predict(X_test)\n",
    "y_pred = np.argmax(y_pred, axis=1)"
   ],
   "outputs": [
    {
     "name": "stderr",
     "output_type": "stream",
     "text": [
      "C:\\Users\\myz\\.conda\\envs\\ibcfe-tsc\\lib\\site-packages\\tensorflow\\python\\keras\\engine\\training.py:2426: UserWarning: `Model.state_updates` will be removed in a future version. This property should not be used in TensorFlow 2.0, as `updates` are applied automatically.\n",
      "  warnings.warn('`Model.state_updates` will be removed in a future version. '\n"
     ]
    }
   ],
   "execution_count": 3
  },
  {
   "cell_type": "code",
   "metadata": {
    "ExecuteTime": {
     "end_time": "2025-08-22T00:29:37.248514Z",
     "start_time": "2025-08-22T00:29:37.239514Z"
    }
   },
   "source": [
    "accuracy_score(y_test,y_pred)"
   ],
   "outputs": [
    {
     "data": {
      "text/plain": [
       "0.9955555555555555"
      ]
     },
     "execution_count": 4,
     "metadata": {},
     "output_type": "execute_result"
    }
   ],
   "execution_count": 4
  },
  {
   "cell_type": "markdown",
   "metadata": {},
   "source": [
    "### Next we want to be able to specify what our counterfactual target is. This should be different to the predicted label of the base classifier. Also lets specify the loss function"
   ]
  },
  {
   "cell_type": "code",
   "metadata": {
    "ExecuteTime": {
     "end_time": "2025-08-22T00:29:45.217897Z",
     "start_time": "2025-08-22T00:29:45.200898Z"
    }
   },
   "source": [
    "def target_(instance):\n",
    "    #Let's Make CF class the second most probable class according to original prediction\n",
    "    target = np.argsort((model.predict(instance.reshape(1,-1,1))))[0][-2:-1][0] \n",
    "    return target\n",
    "\n",
    "def dist_mad(query, cf):\n",
    "    manhat = np.abs(query-cf)\n",
    "    mad = stats.median_absolute_deviation(X_train)\n",
    "    return np.sum((manhat/mad).flatten())\n",
    "\n",
    "def loss_function_mad(x_dash):\n",
    "    target = target_(to_be_explained_instance)\n",
    "    L = lamda*(model.predict(x_dash.reshape(1,-1,1))[0][target] - 1)**2 + \\\n",
    "    dist_mad(x_dash.reshape(1,-1,1), query)\n",
    "    return L"
   ],
   "outputs": [],
   "execution_count": 5
  },
  {
   "cell_type": "markdown",
   "metadata": {},
   "source": [
    "### Wachter Counterfactuals"
   ]
  },
  {
   "cell_type": "code",
   "metadata": {
    "ExecuteTime": {
     "end_time": "2025-08-22T00:29:49.761829Z",
     "start_time": "2025-08-22T00:29:49.754823Z"
    }
   },
   "source": [
    "def Wachter_Counterfactual(instance, lambda_init):\n",
    "    \n",
    "    min_edit_cf = []\n",
    "    undefined_cf_instance = []\n",
    "    global lamda\n",
    "    global dist_mad\n",
    "    global loss_function_mad\n",
    "    global to_be_explained_instance\n",
    "    global query\n",
    "\n",
    "    \n",
    "    pred_threshold = 0.5\n",
    "\n",
    "    # initial conditions\n",
    "    lamda = lambda_init\n",
    "    x0 = X_test[instance].reshape(1,-1,1) # initial guess for cf\n",
    "    query = X_test[instance].reshape(1,-1,1)\n",
    "\n",
    "    to_be_explained_instance = X_test[instance]\n",
    "    #eoins edit\n",
    "\n",
    "    res = minimize(loss_function_mad, x0.reshape(1,-1), method='nelder-mead', options={'maxiter':10, 'xatol': 50, 'adaptive': True})\n",
    "    cf = res.x.reshape(1,-1,1)\n",
    "\n",
    "    target = target_(X_test[instance])\n",
    "    prob_target = model.predict(cf)[0][target]\n",
    "\n",
    "\n",
    "    i=0\n",
    "    while prob_target < pred_threshold:\n",
    "\n",
    "\n",
    "        lamda = lambda_init*(1+0.5)**i\n",
    "        x0 = cf # starting point is current cf. In our case we use the native-guide or nun\n",
    "        res = minimize(loss_function_mad, x0.reshape(1,-1), method='nelder-mead', options={'maxiter':10, 'xatol': 50, 'adaptive': True})\n",
    "        cf = res.x.reshape(1,-1,1)\n",
    "        prob_target = model.predict(cf)[0][target]\n",
    "        i += 1\n",
    "        if i == 500:\n",
    "            print('Error condition not met after',i,'iterations')\n",
    "            print(str(instance))\n",
    "            undefined_cf_instance.append(instance)\n",
    "            break\n",
    "\n",
    "    min_edit_cf.append(cf[0])\n",
    "\n",
    "    \n",
    "    return min_edit_cf, undefined_cf_instance"
   ],
   "outputs": [],
   "execution_count": 6
  },
  {
   "cell_type": "markdown",
   "metadata": {},
   "source": [
    "### Implementation (checking if each point generates a cf)"
   ]
  },
  {
   "cell_type": "code",
   "metadata": {
    "jupyter": {
     "is_executing": true
    },
    "ExecuteTime": {
     "start_time": "2025-08-22T00:29:55.528184Z"
    }
   },
   "source": [
    "min_edit_cf = []\n",
    "undefined_cf_instance = []\n",
    "\n",
    "for instance in range(len(X_test)):\n",
    "    \n",
    "    global lamda\n",
    "    global dist_mad\n",
    "    global loss_function_mad\n",
    "    global to_be_explained_instance\n",
    "    global query\n",
    "\n",
    "    \n",
    "    pred_threshold = 0.5\n",
    "\n",
    "    # initial conditions\n",
    "    lambda_init = 0.1\n",
    "    lamda = lambda_init\n",
    "    x0 = X_test[instance].reshape(1,-1,1) # initial guess for cf\n",
    "    query = X_test[instance].reshape(1,-1,1)\n",
    "\n",
    "    to_be_explained_instance = X_test[instance]\n",
    "    #eoins edit\n",
    "\n",
    "    res = minimize(loss_function_mad, x0.reshape(1,-1), method='nelder-mead', options={'maxiter':10, 'xatol': 50, 'adaptive': True})\n",
    "    cf = res.x.reshape(1,-1,1)\n",
    "\n",
    "    target = target_(X_test[instance])\n",
    "    prob_target = model.predict(cf)[0][target]\n",
    "\n",
    "\n",
    "    i=0\n",
    "    while prob_target < pred_threshold:\n",
    "\n",
    "\n",
    "        lamda = lambda_init*(1+0.5)**i\n",
    "        x0 = cf # starting point is current cf. In our case we use the native-guide or nun\n",
    "        res = minimize(loss_function_mad, x0.reshape(1,-1), method='nelder-mead', options={'maxiter':10, 'xatol': 50, 'adaptive': True})\n",
    "        cf = res.x.reshape(1,-1,1)\n",
    "        prob_target = model.predict(cf)[0][target]\n",
    "        i += 1\n",
    "        if i == 500:\n",
    "            print('Error condition not met after',i,'iterations')\n",
    "            print(str(instance))\n",
    "            undefined_cf_instance.append(instance)\n",
    "            break\n",
    "\n",
    "    min_edit_cf.append(cf[0])"
   ],
   "outputs": [
    {
     "name": "stderr",
     "output_type": "stream",
     "text": [
      "C:\\Users\\myz\\AppData\\Local\\Temp\\ipykernel_6540\\258041642.py:8: DeprecationWarning: `median_absolute_deviation` is deprecated, use `median_abs_deviation` instead!\n",
      "\n",
      "To preserve the existing default behavior, use\n",
      "`scipy.stats.median_abs_deviation(..., scale=1/1.4826)`.\n",
      "The value 1.4826 is not numerically precise for scaling\n",
      "with a normal distribution. For a numerically precise value, use\n",
      "`scipy.stats.median_abs_deviation(..., scale='normal')`.\n",
      "\n",
      "  mad = stats.median_absolute_deviation(X_train)\n"
     ]
    }
   ],
   "execution_count": null
  },
  {
   "cell_type": "code",
   "execution_count": 12,
   "metadata": {},
   "outputs": [
    {
     "data": {
      "text/plain": [
       "(900, 128, 1)"
      ]
     },
     "execution_count": 12,
     "metadata": {},
     "output_type": "execute_result"
    }
   ],
   "source": [
    "np.array(min_edit_cf).shape"
   ]
  },
  {
   "cell_type": "code",
   "execution_count": 13,
   "metadata": {},
   "outputs": [],
   "source": [
    "#np.save('CBF_wachter_cf.npy',np.array(min_edit_cf))\n",
    "np.save('CBF_wachter_cf_new.npy',np.array(min_edit_cf))"
   ]
  },
  {
   "cell_type": "code",
   "execution_count": 17,
   "metadata": {},
   "outputs": [
    {
     "data": {
      "text/plain": [
       "[<matplotlib.lines.Line2D at 0x2434e83ec48>]"
      ]
     },
     "execution_count": 17,
     "metadata": {},
     "output_type": "execute_result"
    },
    {
     "data": {
      "image/png": "[encoded data removed]",
      "text/plain": [
       "<Figure size 432x288 with 1 Axes>"
      ]
     },
     "metadata": {
      "needs_background": "light"
     },
     "output_type": "display_data"
    }
   ],
   "source": [
    "plt.plot(X_test[777])\n",
    "plt.plot(np.array(min_edit_cf[777]))"
   ]
  }
 ],
 "metadata": {
  "kernelspec": {
   "display_name": "Python 3",
   "language": "python",
   "name": "python3"
  },
  "language_info": {
   "codemirror_mode": {
    "name": "ipython",
    "version": 3
   },
   "file_extension": ".py",
   "mimetype": "text/x-python",
   "name": "python",
   "nbconvert_exporter": "python",
   "pygments_lexer": "ipython3",
   "version": "3.7.9"
  },
  "toc": {
   "base_numbering": 1,
   "nav_menu": {},
   "number_sections": true,
   "sideBar": true,
   "skip_h1_title": false,
   "title_cell": "Table of Contents",
   "title_sidebar": "Contents",
   "toc_cell": false,
   "toc_position": {},
   "toc_section_display": true,
   "toc_window_display": false
  }
 },
 "nbformat": 4,
 "nbformat_minor": 2
}
